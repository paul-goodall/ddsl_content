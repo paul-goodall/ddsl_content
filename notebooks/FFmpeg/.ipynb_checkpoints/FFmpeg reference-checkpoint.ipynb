{
 "cells": [
  {
   "cell_type": "markdown",
   "id": "e14284ea",
   "metadata": {},
   "source": [
    "# FFMPEG notes\n",
    "\n",
    "A quick guide at all the FFmpeg shortcuts that I'm always forgetting"
   ]
  },
  {
   "cell_type": "markdown",
   "id": "9e5e7b89",
   "metadata": {},
   "source": [
    "This notenook was created using the `bash` kernel for Jupyter notebooks.\n",
    "\n",
    "![](../start_notebook.gif)"
   ]
  },
  {
   "cell_type": "code",
   "execution_count": 1,
   "id": "ecee5aeb",
   "metadata": {},
   "outputs": [
    {
     "name": "stdout",
     "output_type": "stream",
     "text": [
      "/usr/bin/ffmpeg\n"
     ]
    }
   ],
   "source": [
    "which ffmpeg"
   ]
  },
  {
   "cell_type": "markdown",
   "id": "d763583b",
   "metadata": {},
   "source": [
    "There's a medium-size sample video in `data/christmas.mp4`:"
   ]
  },
  {
   "cell_type": "code",
   "execution_count": 2,
   "id": "ae0da331",
   "metadata": {},
   "outputs": [
    {
     "name": "stdout",
     "output_type": "stream",
     "text": [
      "30M\tdata/christmas.mp4\n",
      "30M\ttotal\n"
     ]
    }
   ],
   "source": [
    "du -csh data/*"
   ]
  },
  {
   "cell_type": "markdown",
   "id": "a03930b3",
   "metadata": {},
   "source": [
    "Click to view: [data/christmas.mp4](http://localhost:8787/file_show?path=%2FVolumes%2FAbyss%2Fddsl%2Fddsl_content%2Fnotebooks%2FFFmpeg%2Fdata%2Fchristmas.mp4)"
   ]
  },
  {
   "cell_type": "markdown",
   "id": "7df07a97",
   "metadata": {},
   "source": [
    "Let's use FFmpeg to show us some more detailed information about the video:"
   ]
  },
  {
   "cell_type": "code",
   "execution_count": 3,
   "id": "a5cd9055",
   "metadata": {},
   "outputs": [
    {
     "name": "stdout",
     "output_type": "stream",
     "text": [
      "Input #0, mov,mp4,m4a,3gp,3g2,mj2, from 'data/christmas.mp4':\n",
      "  Metadata:\n",
      "    major_brand     : M4V \n",
      "    minor_version   : 1\n",
      "    compatible_brands: M4V mp42isom\n",
      "    creation_time   : 2011-12-17T12:36:41.000000Z\n",
      "  Duration: 00:00:24.68, start: 0.000000, bitrate: 9711 kb/s\n",
      "    Stream #0:0(eng): Video: h264 (Main) (avc1 / 0x31637661), yuv420p(tv), 1280x720 [SAR 1:1 DAR 16:9], 9704 kb/s, 25 fps, 25 tbr, 25k tbn, 50 tbc (default)\n",
      "    Metadata:\n",
      "      creation_time   : 2011-12-17T12:36:41.000000Z\n",
      "      handler_name    : Mainconcept MP4 Video Media Handler\n",
      "      encoder         : AVC Coding\n",
      "Stream mapping:\n",
      "  Stream #0:0 -> #0:0 (h264 (native) -> wrapped_avframe (native))\n",
      "Press [q] to stop, [?] for help\n",
      "Output #0, null, to '/dev/null':\n",
      "  Metadata:\n",
      "    major_brand     : M4V \n",
      "    minor_version   : 1\n",
      "    compatible_brands: M4V mp42isom\n",
      "    encoder         : Lavf58.29.100\n",
      "    Stream #0:0(eng): Video: wrapped_avframe, yuv420p, 1280x720 [SAR 1:1 DAR 16:9], q=2-31, 200 kb/s, 25 fps, 25 tbn, 25 tbc (default)\n",
      "    Metadata:\n",
      "      creation_time   : 2011-12-17T12:36:41.000000Z\n",
      "      handler_name    : Mainconcept MP4 Video Media Handler\n",
      "      encoder         : Lavc58.54.100 wrapped_avframe\n",
      "frame=  617 fps=0.0 q=-0.0 Lsize=N/A time=00:00:24.68 bitrate=N/A speed=60.5x    \n",
      "video:323kB audio:0kB subtitle:0kB other streams:0kB global headers:0kB muxing overhead: unknown\n"
     ]
    }
   ],
   "source": [
    "ffmpeg -i data/christmas.mp4 -hide_banner -f null /dev/null"
   ]
  },
  {
   "cell_type": "markdown",
   "id": "1817d4a6",
   "metadata": {},
   "source": [
    "Let's use FFmpeg to convert the video to a smaller format in hd480:"
   ]
  },
  {
   "cell_type": "code",
   "execution_count": 4,
   "id": "fda4031f",
   "metadata": {},
   "outputs": [
    {
     "name": "stdout",
     "output_type": "stream",
     "text": [
      "ffmpeg version 4.2.7-0ubuntu0.1 Copyright (c) 2000-2022 the FFmpeg developers\n",
      "  built with gcc 9 (Ubuntu 9.4.0-1ubuntu1~20.04.1)\n",
      "  configuration: --prefix=/usr --extra-version=0ubuntu0.1 --toolchain=hardened --libdir=/usr/lib/x86_64-linux-gnu --incdir=/usr/include/x86_64-linux-gnu --arch=amd64 --enable-gpl --disable-stripping --enable-avresample --disable-filter=resample --enable-avisynth --enable-gnutls --enable-ladspa --enable-libaom --enable-libass --enable-libbluray --enable-libbs2b --enable-libcaca --enable-libcdio --enable-libcodec2 --enable-libflite --enable-libfontconfig --enable-libfreetype --enable-libfribidi --enable-libgme --enable-libgsm --enable-libjack --enable-libmp3lame --enable-libmysofa --enable-libopenjpeg --enable-libopenmpt --enable-libopus --enable-libpulse --enable-librsvg --enable-librubberband --enable-libshine --enable-libsnappy --enable-libsoxr --enable-libspeex --enable-libssh --enable-libtheora --enable-libtwolame --enable-libvidstab --enable-libvorbis --enable-libvpx --enable-libwavpack --enable-libwebp --enable-libx265 --enable-libxml2 --enable-libxvid --enable-libzmq --enable-libzvbi --enable-lv2 --enable-omx --enable-openal --enable-opencl --enable-opengl --enable-sdl2 --enable-libdc1394 --enable-libdrm --enable-libiec61883 --enable-nvenc --enable-chromaprint --enable-frei0r --enable-libx264 --enable-shared\n",
      "  libavutil      56. 31.100 / 56. 31.100\n",
      "  libavcodec     58. 54.100 / 58. 54.100\n",
      "  libavformat    58. 29.100 / 58. 29.100\n",
      "  libavdevice    58.  8.100 / 58.  8.100\n",
      "  libavfilter     7. 57.100 /  7. 57.100\n",
      "  libavresample   4.  0.  0 /  4.  0.  0\n",
      "  libswscale      5.  5.100 /  5.  5.100\n",
      "  libswresample   3.  5.100 /  3.  5.100\n",
      "  libpostproc    55.  5.100 / 55.  5.100\n",
      "Input #0, mov,mp4,m4a,3gp,3g2,mj2, from 'data/christmas.mp4':\n",
      "  Metadata:\n",
      "    major_brand     : M4V \n",
      "    minor_version   : 1\n",
      "    compatible_brands: M4V mp42isom\n",
      "    creation_time   : 2011-12-17T12:36:41.000000Z\n",
      "  Duration: 00:00:24.68, start: 0.000000, bitrate: 9711 kb/s\n",
      "    Stream #0:0(eng): Video: h264 (Main) (avc1 / 0x31637661), yuv420p(tv), 1280x720 [SAR 1:1 DAR 16:9], 9704 kb/s, 25 fps, 25 tbr, 25k tbn, 50 tbc (default)\n",
      "    Metadata:\n",
      "      creation_time   : 2011-12-17T12:36:41.000000Z\n",
      "      handler_name    : Mainconcept MP4 Video Media Handler\n",
      "      encoder         : AVC Coding\n",
      "Stream mapping:\n",
      "  Stream #0:0 -> #0:0 (h264 (native) -> h264 (libx264))\n",
      "Press [q] to stop, [?] for help\n",
      "\u001b[1;36m[libx264 @ 0x562088da3a80] \u001b[0musing SAR=640/639\n",
      "\u001b[1;36m[libx264 @ 0x562088da3a80] \u001b[0musing cpu capabilities: MMX2 SSE2Fast SSSE3 SSE4.2 AVX FMA3 BMI2 AVX2\n",
      "\u001b[1;36m[libx264 @ 0x562088da3a80] \u001b[0mprofile High, level 3.0\n",
      "\u001b[1;36m[libx264 @ 0x562088da3a80] \u001b[0m264 - core 155 r2917 0a84d98 - H.264/MPEG-4 AVC codec - Copyleft 2003-2018 - http://www.videolan.org/x264.html - options: cabac=1 ref=3 deblock=1:0:0 analyse=0x3:0x113 me=hex subme=7 psy=1 psy_rd=1.00:0.00 mixed_ref=1 me_range=16 chroma_me=1 trellis=1 8x8dct=1 cqm=0 deadzone=21,11 fast_pskip=1 chroma_qp_offset=-2 threads=15 lookahead_threads=2 sliced_threads=0 nr=0 decimate=1 interlaced=0 bluray_compat=0 constrained_intra=0 bframes=3 b_pyramid=2 b_adapt=1 b_bias=0 direct=1 weightb=1 open_gop=0 weightp=2 keyint=250 keyint_min=25 scenecut=40 intra_refresh=0 rc_lookahead=40 rc=crf mbtree=1 crf=23.0 qcomp=0.60 qpmin=0 qpmax=69 qpstep=4 ip_ratio=1.40 aq=1:1.00\n",
      "Output #0, mp4, to 'data/christmas_small.mp4':\n",
      "  Metadata:\n",
      "    major_brand     : M4V \n",
      "    minor_version   : 1\n",
      "    compatible_brands: M4V mp42isom\n",
      "    encoder         : Lavf58.29.100\n",
      "    Stream #0:0(eng): Video: h264 (libx264) (avc1 / 0x31637661), yuv420p, 852x480 [SAR 640:639 DAR 16:9], q=-1--1, 25 fps, 12800 tbn, 25 tbc (default)\n",
      "    Metadata:\n",
      "      creation_time   : 2011-12-17T12:36:41.000000Z\n",
      "      handler_name    : Mainconcept MP4 Video Media Handler\n",
      "      encoder         : Lavc58.54.100 libx264\n",
      "    Side data:\n",
      "      cpb: bitrate max/min/avg: 0/0/0 buffer size: 0 vbv_delay: -1\n",
      "frame=  617 fps=238 q=-1.0 Lsize=    3000kB time=00:00:24.56 bitrate=1000.6kbits/s speed=9.48x    \n",
      "video:2992kB audio:0kB subtitle:0kB other streams:0kB global headers:0kB muxing overhead: 0.270415%\n",
      "\u001b[1;36m[libx264 @ 0x562088da3a80] \u001b[0mframe I:3     Avg QP:21.76  size: 35158\n",
      "\u001b[1;36m[libx264 @ 0x562088da3a80] \u001b[0mframe P:156   Avg QP:23.77  size:  8415\n",
      "\u001b[1;36m[libx264 @ 0x562088da3a80] \u001b[0mframe B:458   Avg QP:25.76  size:  3591\n",
      "\u001b[1;36m[libx264 @ 0x562088da3a80] \u001b[0mconsecutive B-frames:  0.8%  0.0%  1.9% 97.2%\n",
      "\u001b[1;36m[libx264 @ 0x562088da3a80] \u001b[0mmb I  I16..4: 22.2% 58.8% 19.0%\n",
      "\u001b[1;36m[libx264 @ 0x562088da3a80] \u001b[0mmb P  I16..4:  8.5% 14.5%  1.6%  P16..4: 44.9% 10.7%  5.5%  0.0%  0.0%    skip:14.3%\n",
      "\u001b[1;36m[libx264 @ 0x562088da3a80] \u001b[0mmb B  I16..4:  1.3%  3.1%  0.3%  B16..8: 27.2%  6.0%  1.2%  direct: 3.4%  skip:57.4%  L0:48.8% L1:45.1% BI: 6.1%\n",
      "\u001b[1;36m[libx264 @ 0x562088da3a80] \u001b[0m8x8 transform intra:61.2% inter:82.9%\n",
      "\u001b[1;36m[libx264 @ 0x562088da3a80] \u001b[0mcoded y,uvDC,uvAC intra: 38.8% 80.0% 51.4% inter: 11.7% 27.7% 4.0%\n",
      "\u001b[1;36m[libx264 @ 0x562088da3a80] \u001b[0mi16 v,h,dc,p: 47% 15%  6% 32%\n",
      "\u001b[1;36m[libx264 @ 0x562088da3a80] \u001b[0mi8 v,h,dc,ddl,ddr,vr,hd,vl,hu: 27% 13% 22%  4%  7%  9%  5%  7%  5%\n",
      "\u001b[1;36m[libx264 @ 0x562088da3a80] \u001b[0mi4 v,h,dc,ddl,ddr,vr,hd,vl,hu: 48% 10% 11%  3%  8%  8%  5%  5%  2%\n",
      "\u001b[1;36m[libx264 @ 0x562088da3a80] \u001b[0mi8c dc,h,v,p: 35% 16% 36% 13%\n",
      "\u001b[1;36m[libx264 @ 0x562088da3a80] \u001b[0mWeighted P-Frames: Y:0.6% UV:0.6%\n",
      "\u001b[1;36m[libx264 @ 0x562088da3a80] \u001b[0mref P L0: 46.1%  8.3% 26.1% 19.4%  0.1%\n",
      "\u001b[1;36m[libx264 @ 0x562088da3a80] \u001b[0mref B L0: 79.3% 13.5%  7.2%\n",
      "\u001b[1;36m[libx264 @ 0x562088da3a80] \u001b[0mref B L1: 93.7%  6.3%\n",
      "\u001b[1;36m[libx264 @ 0x562088da3a80] \u001b[0mkb/s:992.79\n"
     ]
    }
   ],
   "source": [
    "ffmpeg -i data/christmas.mp4 -s hd480 -c:v libx264 -crf 23 -c:a aac -strict -2 data/christmas_small.mp4"
   ]
  },
  {
   "cell_type": "markdown",
   "id": "70cdc71e",
   "metadata": {},
   "source": [
    "The output video is about one tenth of the size of the parent, and not noticeably lower in quality for this kind of video."
   ]
  },
  {
   "cell_type": "code",
   "execution_count": 5,
   "id": "e1c16bdb",
   "metadata": {},
   "outputs": [
    {
     "name": "stdout",
     "output_type": "stream",
     "text": [
      "30M\tdata/christmas.mp4\n",
      "3.1M\tdata/christmas_small.mp4\n",
      "33M\ttotal\n"
     ]
    }
   ],
   "source": [
    "du -csh data/*"
   ]
  },
  {
   "cell_type": "markdown",
   "id": "79706eea",
   "metadata": {},
   "source": [
    "---\n",
    "Click to view: [data/christmas_small.mp4](http://localhost:8787/file_show?path=%2FVolumes%2FAbyss%2Fddsl%2Fddsl_content%2Fnotebooks%2FFFmpeg%2Fdata%2Fchristmas_small.mp4)"
   ]
  },
  {
   "cell_type": "code",
   "execution_count": null,
   "id": "85119308",
   "metadata": {},
   "outputs": [],
   "source": []
  }
 ],
 "metadata": {
  "kernelspec": {
   "display_name": "Bash",
   "language": "bash",
   "name": "bash"
  },
  "language_info": {
   "codemirror_mode": "shell",
   "file_extension": ".sh",
   "mimetype": "text/x-sh",
   "name": "bash"
  }
 },
 "nbformat": 4,
 "nbformat_minor": 5
}
