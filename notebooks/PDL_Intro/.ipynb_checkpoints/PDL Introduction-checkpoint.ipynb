{
 "cells": [
  {
   "cell_type": "markdown",
   "id": "6443ea9e",
   "metadata": {},
   "source": [
    "# PDL Notebook"
   ]
  },
  {
   "cell_type": "markdown",
   "id": "f148b570",
   "metadata": {},
   "source": [
    "This notenook was created using the `iPerl` kernel for Jupyter notebooks.\n",
    "\n",
    "![](../start_notebook.gif)"
   ]
  },
  {
   "cell_type": "code",
   "execution_count": 8,
   "id": "236f7dcf",
   "metadata": {},
   "outputs": [
    {
     "ename": "Error",
     "evalue": "Can't locate PDL/Graphics/PGPLOT.pm in @INC (you may need to install the PDL::Graphics::PGPLOT module) (@INC contains: /etc/perl /usr/local/lib/x86_64-linux-gnu/perl/5.30.0 /usr/local/share/perl/5.30.0 /usr/lib/x86_64-linux-gnu/perl5/5.30 /usr/share/perl5 /usr/lib/x86_64-linux-gnu/perl/5.30 /usr/share/perl/5.30 /usr/local/lib/site_perl /usr/lib/x86_64-linux-gnu/perl-base) at reply input line 4.\nBEGIN failed--compilation aborted at reply input line 4.\n\n",
     "output_type": "error",
     "traceback": [
      "Can't locate PDL/Graphics/PGPLOT.pm in @INC (you may need to install the PDL::Graphics::PGPLOT module) (@INC contains: /etc/perl /usr/local/lib/x86_64-linux-gnu/perl/5.30.0 /usr/local/share/perl/5.30.0 /usr/lib/x86_64-linux-gnu/perl5/5.30 /usr/share/perl5 /usr/lib/x86_64-linux-gnu/perl/5.30 /usr/share/perl/5.30 /usr/local/lib/site_perl /usr/lib/x86_64-linux-gnu/perl-base) at reply input line 4.\nBEGIN failed--compilation aborted at reply input line 4.\n\n"
     ]
    }
   ],
   "source": [
    "use PDL;\n",
    "use PGPLOT;               \n",
    "use PDL::Graphics::Simple;\n",
    "use PDL::Graphics::PGPLOT;\n",
    "use PDL::Graphics::PGPLOT::Window;"
   ]
  },
  {
   "cell_type": "code",
   "execution_count": 13,
   "id": "652714c5",
   "metadata": {},
   "outputs": [
    {
     "ename": "Warning",
     "evalue": "String found where operator expected at /usr/local/lib/x86_64-linux-gnu/perl/5.30.0/PDL/Graphics/PGPLOT/Window.pm line 6272, near \"PDL::broadcast_define '_tcircle(a();b();c();ind()), NOtherPars => 2'\"\n\n\t(Do you need to predeclare PDL::broadcast_define?)\n",
     "output_type": "error",
     "traceback": [
      "String found where operator expected at /usr/local/lib/x86_64-linux-gnu/perl/5.30.0/PDL/Graphics/PGPLOT/Window.pm line 6272, near \"PDL::broadcast_define '_tcircle(a();b();c();ind()), NOtherPars => 2'\"\n\n\t(Do you need to predeclare PDL::broadcast_define?)\n"
     ]
    },
    {
     "ename": "Error",
     "evalue": "syntax error at /usr/local/lib/x86_64-linux-gnu/perl/5.30.0/PDL/Graphics/PGPLOT/Window.pm line 6272, near \"PDL::broadcast_define '_tcircle(a();b();c();ind()), NOtherPars => 2'\"\nCan't use global @_ in \"my\" at /usr/local/lib/x86_64-linux-gnu/perl/5.30.0/PDL/Graphics/PGPLOT/Window.pm line 6273, near \"=@_\"\nGlobal symbol \"$self\" requires explicit package name (did you forget to declare \"my $self\"?) at /usr/local/lib/x86_64-linux-gnu/perl/5.30.0/PDL/Graphics/PGPLOT/Window.pm line 6274.\nGlobal symbol \"$x\" requires explicit package name (did you forget to declare \"my $x\"?) at /usr/local/lib/x86_64-linux-gnu/perl/5.30.0/PDL/Graphics/PGPLOT/Window.pm line 6274.\nGlobal symbol \"$y\" requires explicit package name (did you forget to declare \"my $y\"?) at /usr/local/lib/x86_64-linux-gnu/perl/5.30.0/PDL/Graphics/PGPLOT/Window.pm line 6274.\nGlobal symbol \"$r\" requires explicit package name (did you forget to declare \"my $r\"?) at /usr/local/lib/x86_64-linux-gnu/perl/5.30.0/PDL/Graphics/PGPLOT/Window.pm line 6274.\nGlobal symbol \"$opt\" requires explicit package name (did you forget to declare \"my $opt\"?) at /usr/local/lib/x86_64-linux-gnu/perl/5.30.0/PDL/Graphics/PGPLOT/Window.pm line 6274.\nGlobal symbol \"$ind\" requires explicit package name (did you forget to declare \"my $ind\"?) at /usr/local/lib/x86_64-linux-gnu/perl/5.30.0/PDL/Graphics/PGPLOT/Window.pm line 6274.\nsyntax error at /usr/local/lib/x86_64-linux-gnu/perl/5.30.0/PDL/Graphics/PGPLOT/Window.pm line 6275, near \"}\"\nType of arg 1 to PDL::Graphics::PGPLOT::Window::catch_signals must be block or sub {} (not reference constructor) at /usr/local/lib/x86_64-linux-gnu/perl/5.30.0/PDL/Graphics/PGPLOT/Window.pm line 6455, near \"};\"\n/usr/local/lib/x86_64-linux-gnu/perl/5.30.0/PDL/Graphics/PGPLOT/Window.pm has too many errors.\nCompilation failed in require at /usr/local/lib/x86_64-linux-gnu/perl/5.30.0/PDL/Graphics/PGPLOT.pm line 151.\nBEGIN failed--compilation aborted at /usr/local/lib/x86_64-linux-gnu/perl/5.30.0/PDL/Graphics/PGPLOT.pm line 151.\nCompilation failed in require at reply input line 2.\nBEGIN failed--compilation aborted at reply input line 2.\n\n",
     "output_type": "error",
     "traceback": [
      "syntax error at /usr/local/lib/x86_64-linux-gnu/perl/5.30.0/PDL/Graphics/PGPLOT/Window.pm line 6272, near \"PDL::broadcast_define '_tcircle(a();b();c();ind()), NOtherPars => 2'\"\nCan't use global @_ in \"my\" at /usr/local/lib/x86_64-linux-gnu/perl/5.30.0/PDL/Graphics/PGPLOT/Window.pm line 6273, near \"=@_\"\nGlobal symbol \"$self\" requires explicit package name (did you forget to declare \"my $self\"?) at /usr/local/lib/x86_64-linux-gnu/perl/5.30.0/PDL/Graphics/PGPLOT/Window.pm line 6274.\nGlobal symbol \"$x\" requires explicit package name (did you forget to declare \"my $x\"?) at /usr/local/lib/x86_64-linux-gnu/perl/5.30.0/PDL/Graphics/PGPLOT/Window.pm line 6274.\nGlobal symbol \"$y\" requires explicit package name (did you forget to declare \"my $y\"?) at /usr/local/lib/x86_64-linux-gnu/perl/5.30.0/PDL/Graphics/PGPLOT/Window.pm line 6274.\nGlobal symbol \"$r\" requires explicit package name (did you forget to declare \"my $r\"?) at /usr/local/lib/x86_64-linux-gnu/perl/5.30.0/PDL/Graphics/PGPLOT/Window.pm line 6274.\nGlobal symbol \"$opt\" requires explicit package name (did you forget to declare \"my $opt\"?) at /usr/local/lib/x86_64-linux-gnu/perl/5.30.0/PDL/Graphics/PGPLOT/Window.pm line 6274.\nGlobal symbol \"$ind\" requires explicit package name (did you forget to declare \"my $ind\"?) at /usr/local/lib/x86_64-linux-gnu/perl/5.30.0/PDL/Graphics/PGPLOT/Window.pm line 6274.\nsyntax error at /usr/local/lib/x86_64-linux-gnu/perl/5.30.0/PDL/Graphics/PGPLOT/Window.pm line 6275, near \"}\"\nType of arg 1 to PDL::Graphics::PGPLOT::Window::catch_signals must be block or sub {} (not reference constructor) at /usr/local/lib/x86_64-linux-gnu/perl/5.30.0/PDL/Graphics/PGPLOT/Window.pm line 6455, near \"};\"\n/usr/local/lib/x86_64-linux-gnu/perl/5.30.0/PDL/Graphics/PGPLOT/Window.pm has too many errors.\nCompilation failed in require at /usr/local/lib/x86_64-linux-gnu/perl/5.30.0/PDL/Graphics/PGPLOT.pm line 151.\nBEGIN failed--compilation aborted at /usr/local/lib/x86_64-linux-gnu/perl/5.30.0/PDL/Graphics/PGPLOT.pm line 151.\nCompilation failed in require at reply input line 2.\nBEGIN failed--compilation aborted at reply input line 2.\n\n"
     ]
    }
   ],
   "source": [
    "use PDL::Graphics::PGPLOT"
   ]
  },
  {
   "cell_type": "code",
   "execution_count": null,
   "id": "37650a36",
   "metadata": {},
   "outputs": [],
   "source": [
    "use PDL::Graphics::LUT;\n",
    "dev(\"/xs\",3,15);\n",
    "\n",
    "foreach(lut_names()){\n",
    "    print\"$_\\t\";\n",
    "    ctab(lut_data($_));\n",
    "    imag sequence(250,1);\n",
    "    text $_,20,-0.2,{CHARSIZE=>20,LINEWIDTH=>20,COLOUR=>0};\n",
    "    text $_,20,-0.2,{CHARSIZE=>20,LINEWIDTH=>1,COLOUR=>1};\n",
    "}"
   ]
  },
  {
   "cell_type": "code",
   "execution_count": 13,
   "id": "be3e4e49",
   "metadata": {},
   "outputs": [
    {
     "ename": "Error",
     "evalue": "Can't call method \"id\" on an undefined value at /usr/local/lib/x86_64-linux-gnu/perl/5.30.0/PDL/Graphics/PGPLOT.pm line 314.\n",
     "output_type": "error",
     "traceback": [
      "Can't call method \"id\" on an undefined value at /usr/local/lib/x86_64-linux-gnu/perl/5.30.0/PDL/Graphics/PGPLOT.pm line 314.\n"
     ]
    }
   ],
   "source": [
    "# Extra step for Jupyter notebooks - we have to\n",
    "# explicitly set up the x11 viewing device for our plots:\n",
    "ctab( lut_data('heat',0,'log') );\n",
    "$ENV{PGPLOT_XW_WIDTH}=0.5;\n",
    "$ENV{PGPLOT_XW_HEIGHT}=0.5;\n",
    "dev('/XSERVE');"
   ]
  },
  {
   "cell_type": "code",
   "execution_count": 27,
   "id": "37b27c88",
   "metadata": {},
   "outputs": [
    {
     "data": {
      "text/plain": [
       "1"
      ]
     },
     "execution_count": 27,
     "metadata": {},
     "output_type": "execute_result"
    }
   ],
   "source": [
    "imag (sin(rvals(200,200)+1));"
   ]
  },
  {
   "cell_type": "code",
   "execution_count": 28,
   "id": "6dc51d77",
   "metadata": {
    "scrolled": true
   },
   "outputs": [
    {
     "data": {
      "text/plain": [
       "TOO LONG TO PRINT"
      ]
     },
     "execution_count": 28,
     "metadata": {},
     "output_type": "execute_result"
    }
   ],
   "source": [
    "$im = rfits(\"m51_raw.fits\");"
   ]
  },
  {
   "cell_type": "code",
   "execution_count": 13,
   "id": "363d0e33",
   "metadata": {},
   "outputs": [
    {
     "data": {
      "text/plain": [
       "TOO LONG TO PRINT"
      ]
     },
     "execution_count": 13,
     "metadata": {},
     "output_type": "execute_result"
    }
   ],
   "source": [
    "my $nx = $im->dim(0);\n",
    "my $ny = $im->dim(1);\n",
    "my $LLx = 8;\n",
    "my $LLy = $LLx*$ny/$nx;\n",
    "\n",
    "$winoptions->{dev} ='/xs';\n",
    "$winoptions->{WindowXSize}=$LLx;\n",
    "$winoptions->{WindowYSize}=$LLy;\n",
    "$win = PDL::Graphics::PGPLOT::Window->new($winoptions);\n",
    "$win->ctab( lut_data('heat',0,'ramp') );"
   ]
  },
  {
   "cell_type": "code",
   "execution_count": 6,
   "id": "b68716ba",
   "metadata": {},
   "outputs": [
    {
     "data": {
      "text/plain": [
       "1"
      ]
     },
     "execution_count": 6,
     "metadata": {},
     "output_type": "execute_result"
    }
   ],
   "source": [
    "$win->imag($im);"
   ]
  },
  {
   "cell_type": "code",
   "execution_count": 5,
   "id": "b159ca8e",
   "metadata": {},
   "outputs": [
    {
     "data": {
      "text/plain": [
       "1"
      ]
     },
     "execution_count": 5,
     "metadata": {},
     "output_type": "execute_result"
    }
   ],
   "source": [
    "$win->imag($im, 0, 1000, {TITLE=>'Image of m51: more contrast'});"
   ]
  },
  {
   "cell_type": "code",
   "execution_count": 7,
   "id": "9d44bbf6",
   "metadata": {},
   "outputs": [
    {
     "data": {
      "text/plain": [
       "8"
      ]
     },
     "execution_count": 7,
     "metadata": {},
     "output_type": "execute_result"
    }
   ],
   "source": [
    "$win->imag($im, 0, 300, {TITLE=>'Image of m51: even more contrast'});"
   ]
  },
  {
   "cell_type": "code",
   "execution_count": null,
   "id": "bbe4f7bd",
   "metadata": {},
   "outputs": [],
   "source": []
  }
 ],
 "metadata": {
  "kernelspec": {
   "display_name": "IPerl 0.011",
   "language": "perl",
   "name": "iperl"
  },
  "language_info": {
   "file_extension": ".pl",
   "mimetype": "text/x-perl",
   "name": "perl",
   "version": "5.30.0"
  }
 },
 "nbformat": 4,
 "nbformat_minor": 5
}
