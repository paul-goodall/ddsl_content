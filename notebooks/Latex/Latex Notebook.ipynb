{
 "cells": [
  {
   "cell_type": "markdown",
   "id": "675a6fb8",
   "metadata": {},
   "source": [
    "# Latex Notes"
   ]
  },
  {
   "cell_type": "markdown",
   "id": "98e65b73",
   "metadata": {},
   "source": [
    "This notenook was created using the `bash` kernel for Jupyter notebooks.\n",
    "\n",
    "![](../start_notebook.gif)"
   ]
  },
  {
   "cell_type": "code",
   "execution_count": 1,
   "id": "88649dbe",
   "metadata": {},
   "outputs": [
    {
     "name": "stdout",
     "output_type": "stream",
     "text": [
      "total 120\n",
      "-rwxrwxrwx 1 ddsl ddsl   7759 Jul  2 14:41 \u001b[0m\u001b[01;32m'Latex Notebook.ipynb'\u001b[0m\n",
      "-rwxrwxrwx 1 ddsl ddsl   1947 Jul  2 14:41  \u001b[01;32msample.tex\u001b[0m\n",
      "-rwxrwxrwx 1 ddsl ddsl 107223 Jul  2 14:41  \u001b[01;32mstart_notebook.mp4\u001b[0m\n"
     ]
    }
   ],
   "source": [
    "ls -l"
   ]
  },
  {
   "cell_type": "code",
   "execution_count": 2,
   "id": "08e659d1",
   "metadata": {},
   "outputs": [
    {
     "name": "stdout",
     "output_type": "stream",
     "text": [
      "/usr/local/texlive/bin/x86_64-linux//latex\n"
     ]
    }
   ],
   "source": [
    "which latex"
   ]
  },
  {
   "cell_type": "code",
   "execution_count": 3,
   "id": "7c8c7f8d",
   "metadata": {},
   "outputs": [
    {
     "name": "stdout",
     "output_type": "stream",
     "text": [
      "/usr/local/texlive/bin/x86_64-linux//pdflatex\n"
     ]
    }
   ],
   "source": [
    "which pdflatex"
   ]
  },
  {
   "cell_type": "code",
   "execution_count": 4,
   "id": "30b0d286",
   "metadata": {},
   "outputs": [
    {
     "name": "stdout",
     "output_type": "stream",
     "text": [
      "% This is a simple sample document.  For more complicated documents take a look in the exercise tab. Note that everything that comes after a % symbol is treated as comment and ignored when the code is compiled.\n",
      "\n",
      "\\documentclass{article} % \\documentclass{} is the first command in any LaTeX code.  It is used to define what kind of document you are creating such as an article or a book, and begins the document preamble\n",
      "\n",
      "\\usepackage{amsmath} % \\usepackage is a command that allows you to add functionality to your LaTeX code\n",
      "\n",
      "\\title{Simple Sample} % Sets article title\n",
      "\\author{My Name} % Sets authors name\n",
      "\\date{\\today} % Sets date for date compiled\n",
      "\n",
      "% The preamble ends with the command \\begin{document}\n",
      "\\begin{document} % All begin commands must be paired with an end command somewhere\n",
      "    \\maketitle % creates title using information in preamble (title, author, date)\n",
      "    \n",
      "    \\section{Hello World!} % creates a section\n",
      "    \n",
      "    \\textbf{Hello World!} Today I am learning \\LaTeX. %notice how the command will end at the first non-alphabet charecter such as the . after \\LaTeX\n",
      "     \\LaTeX{} is a great program for writing math. I can write in line math such as $a^2+b^2=c^2$ %$ tells LaTexX to compile as math\n",
      "     . I can also give equations their own space: \n",
      "    \\begin{equation} % Creates an equation environment and is compiled as math\n",
      "    \\gamma^2+\\theta^2=\\omega^2\n",
      "    \\end{equation}\n",
      "    If I do not leave any blank lines \\LaTeX{} will continue  this text without making it into a new paragraph.  Notice how there was no indentation in the text after equation (1).  \n",
      "    Also notice how even though I hit enter after that sentence and here $\\downarrow$\n",
      "     \\LaTeX{} formats the sentence without any break.  Also   look  how      it   doesn't     matter          how    many  spaces     I put     between       my    words.\n",
      "    \n",
      "    For a new paragraph I can leave a blank space in my code. \n",
      "\n",
      "\\end{document} % This is the end of the document"
     ]
    }
   ],
   "source": [
    "cat sample.tex"
   ]
  },
  {
   "cell_type": "code",
   "execution_count": 5,
   "id": "60da2815",
   "metadata": {
    "scrolled": true
   },
   "outputs": [
    {
     "name": "stdout",
     "output_type": "stream",
     "text": [
      "This is pdfTeX, Version 3.141592653-2.6-1.40.24 (TeX Live 2022) (preloaded format=pdflatex)\n",
      " restricted \\write18 enabled.\n",
      "entering extended mode\n",
      "(./sample.tex\n",
      "LaTeX2e <2022-06-01> patch level 3\n",
      "L3 programming layer <2022-06-16>\n",
      "(/usr/local/texlive/texmf-dist/tex/latex/base/article.cls\n",
      "Document Class: article 2021/10/04 v1.4n Standard LaTeX document class\n",
      "(/usr/local/texlive/texmf-dist/tex/latex/base/size10.clo))\n",
      "(/usr/local/texlive/texmf-dist/tex/latex/amsmath/amsmath.sty\n",
      "For additional information on amsmath, use the `?' option.\n",
      "(/usr/local/texlive/texmf-dist/tex/latex/amsmath/amstext.sty\n",
      "(/usr/local/texlive/texmf-dist/tex/latex/amsmath/amsgen.sty))\n",
      "(/usr/local/texlive/texmf-dist/tex/latex/amsmath/amsbsy.sty)\n",
      "(/usr/local/texlive/texmf-dist/tex/latex/amsmath/amsopn.sty))\n",
      "(/usr/local/texlive/texmf-dist/tex/latex/l3backend/l3backend-pdftex.def)\n",
      "No file sample.aux.\n",
      "[1{/opt/texlive/texmf-var/fonts/map/pdftex/updmap/pdftex.map}] (./sample.aux) )\n",
      "</usr/local/texlive/texmf-dist/fonts/type1/public/amsfonts/cm/cmbx10.pfb></usr/\n",
      "local/texlive/texmf-dist/fonts/type1/public/amsfonts/cm/cmbx12.pfb></usr/local/\n",
      "texlive/texmf-dist/fonts/type1/public/amsfonts/cm/cmmi10.pfb></usr/local/texliv\n",
      "e/texmf-dist/fonts/type1/public/amsfonts/cm/cmr10.pfb></usr/local/texlive/texmf\n",
      "-dist/fonts/type1/public/amsfonts/cm/cmr12.pfb></usr/local/texlive/texmf-dist/f\n",
      "onts/type1/public/amsfonts/cm/cmr17.pfb></usr/local/texlive/texmf-dist/fonts/ty\n",
      "pe1/public/amsfonts/cm/cmr7.pfb></usr/local/texlive/texmf-dist/fonts/type1/publ\n",
      "ic/amsfonts/cm/cmsy10.pfb>\n",
      "Output written on sample.pdf (1 page, 85495 bytes).\n",
      "Transcript written on sample.log.\n"
     ]
    }
   ],
   "source": [
    "pdflatex sample.tex"
   ]
  },
  {
   "cell_type": "code",
   "execution_count": 6,
   "id": "3c1a9c8a",
   "metadata": {},
   "outputs": [
    {
     "name": "stdout",
     "output_type": "stream",
     "text": [
      "total 216\n",
      "-rwxrwxrwx 1 ddsl ddsl   7759 Jul  2 14:41 \u001b[0m\u001b[01;32m'Latex Notebook.ipynb'\u001b[0m\n",
      "-rw-r--r-- 1 ddsl ddsl    132 Jul  2 14:42  sample.aux\n",
      "-rw-r--r-- 1 ddsl ddsl   5480 Jul  2 14:42  sample.log\n",
      "-rw-r--r-- 1 ddsl ddsl  85495 Jul  2 14:42  sample.pdf\n",
      "-rwxrwxrwx 1 ddsl ddsl   1947 Jul  2 14:41  \u001b[01;32msample.tex\u001b[0m\n",
      "-rwxrwxrwx 1 ddsl ddsl 107223 Jul  2 14:41  \u001b[01;32mstart_notebook.mp4\u001b[0m\n"
     ]
    }
   ],
   "source": [
    "ls -l"
   ]
  },
  {
   "cell_type": "markdown",
   "id": "fe6f7aaa",
   "metadata": {},
   "source": [
    "---\n",
    "Click to view: [sample.pdf](http://localhost:8787/file_show?path=%2FVolumes%2FAbyss%2Fddsl%2Fddsl_content%2Fnotebooks%2FLatex%2Fsample.pdf)"
   ]
  },
  {
   "cell_type": "code",
   "execution_count": null,
   "id": "af300681",
   "metadata": {},
   "outputs": [],
   "source": []
  }
 ],
 "metadata": {
  "kernelspec": {
   "display_name": "Bash",
   "language": "bash",
   "name": "bash"
  },
  "language_info": {
   "codemirror_mode": "shell",
   "file_extension": ".sh",
   "mimetype": "text/x-sh",
   "name": "bash"
  }
 },
 "nbformat": 4,
 "nbformat_minor": 5
}
