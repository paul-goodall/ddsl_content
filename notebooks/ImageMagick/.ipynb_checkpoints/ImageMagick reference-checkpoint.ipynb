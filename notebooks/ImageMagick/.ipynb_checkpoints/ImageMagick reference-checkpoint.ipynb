{
 "cells": [
  {
   "cell_type": "markdown",
   "id": "401efcbe",
   "metadata": {},
   "source": [
    "# ImageMagick notes"
   ]
  },
  {
   "cell_type": "markdown",
   "id": "cafd2b7a",
   "metadata": {},
   "source": [
    "This notenook was created using the `bash` kernel for Jupyter notebooks.\n",
    "\n",
    "![](../start_notebook.gif)"
   ]
  },
  {
   "cell_type": "markdown",
   "id": "318a4145",
   "metadata": {},
   "source": [
    "## Example 1\n",
    "\n",
    "Here we have an example of image masking.\n",
    "\n",
    "The first image is a colourful background image, the second is a black-and-white mask in the shape of a crescent moon:\n",
    "\n",
    "![ether.png](data/ether.png)  \n",
    "![moon_mask.gif](data/moon_mask.gif)"
   ]
  },
  {
   "cell_type": "code",
   "execution_count": 1,
   "id": "39f1a45d",
   "metadata": {},
   "outputs": [],
   "source": [
    "convert data/ether.png data/moon_mask.gif -alpha Off  -compose CopyOpacity   -composite  data/moon_final.png"
   ]
  },
  {
   "cell_type": "code",
   "execution_count": 2,
   "id": "96a9d5e4",
   "metadata": {},
   "outputs": [
    {
     "name": "stdout",
     "output_type": "stream",
     "text": [
      "total 404\n",
      "-rwxrwxrwx  1 ddsl ddsl  24067 Jul  2 14:41 \u001b[0m\u001b[01;32mether.png\u001b[0m\n",
      "-rwxrwxrwx  1 ddsl ddsl 102859 Jul  2 14:41 \u001b[01;32mflowers.jpg\u001b[0m\n",
      "-rwxrwxrwx  1 ddsl ddsl  71821 Jul  2 14:41 \u001b[01;32mjars.jpg\u001b[0m\n",
      "-rwxrwxrwx  1 ddsl ddsl  27062 Jul  2 16:36 \u001b[01;32mmoon_final.png\u001b[0m\n",
      "-rwxrwxrwx  1 ddsl ddsl    848 Jul  2 14:41 \u001b[01;32mmoon_mask.gif\u001b[0m\n",
      "-rw-r--r--  1 ddsl ddsl  19671 Jul  2 15:57 \u001b[01;35mout1.png\u001b[0m\n",
      "-rw-r--r--  1 ddsl ddsl   5777 Jul  2 15:57 \u001b[01;35mout2.png\u001b[0m\n",
      "-rw-r--r--  1 ddsl ddsl   5373 Jul  2 15:57 \u001b[01;35mout3.png\u001b[0m\n",
      "-rw-r--r--  1 ddsl ddsl  15217 Jul  2 15:58 \u001b[01;35mout4.png\u001b[0m\n",
      "-rw-r--r--  1 ddsl ddsl  47951 Jul  2 16:04 \u001b[01;35mout5.png\u001b[0m\n",
      "-rw-r--r--  1 ddsl ddsl  47951 Jul  2 16:05 \u001b[01;35mout6.png\u001b[0m\n",
      "drwxrwxrwx 28 ddsl ddsl    896 Jul  2 16:35 \u001b[34;42mswordsman\u001b[0m\n",
      "-rwxrwxrwx  1 ddsl ddsl  21134 Jul  2 14:41 \u001b[01;32mswordsmen.png\u001b[0m\n"
     ]
    }
   ],
   "source": [
    "ls -l data/"
   ]
  },
  {
   "cell_type": "markdown",
   "id": "79a8280c",
   "metadata": {},
   "source": [
    "And here we show the output:\n",
    "\n",
    "![moon_final.png](data/moon_final.png)"
   ]
  },
  {
   "cell_type": "markdown",
   "id": "4d125517",
   "metadata": {},
   "source": [
    "---\n",
    "\n",
    "## Example 2\n",
    "\n",
    "Combining some old retro-games images to make an animation.\n",
    "\n",
    "Below are some images of a cartoon swordsman from `Heroes of Might and Magic 1`\n",
    "\n",
    "The images were stored in a very strange format owing to transparency/alpha-channel not being widely supported back when the game was developed.  I'm going to demonstrate the power of `ImageMagick` by modernising this image to a PNG with an alpha channel.\n",
    "\n",
    "The array consists of 9 images on the first row, along with their corresponding shadows on the second row.\n",
    "\n",
    "These images are numbered from `0000.bmp` to `0017.bmp`, and the originals look like this:"
   ]
  },
  {
   "cell_type": "code",
   "execution_count": 3,
   "id": "20296b5a",
   "metadata": {},
   "outputs": [],
   "source": [
    "montage -density 200 \\\n",
    "    -tile 9x0 \\\n",
    "    -geometry +5+5 \\\n",
    "    -border 10 \\\n",
    "    data/swordsman/*.bmp \\\n",
    "    data/out1.png"
   ]
  },
  {
   "cell_type": "markdown",
   "id": "c43b2ec5",
   "metadata": {},
   "source": [
    "![](data/out1.png)"
   ]
  },
  {
   "cell_type": "markdown",
   "id": "244baf8b",
   "metadata": {},
   "source": [
    "Let's look at the first standing image and corresponding shadow.\n",
    "\n",
    "I'll take the yellow-cyan shadown and convert it to and RGB image with gray shadow and transaprency.\n",
    "\n",
    "I'll also Gaussian-blur the shadow with radius=4 pixels and sigma=1.5 pixels."
   ]
  },
  {
   "cell_type": "code",
   "execution_count": 4,
   "id": "82127c1c",
   "metadata": {},
   "outputs": [],
   "source": [
    "convert data/swordsman/0010.bmp \\\n",
    "    -transparent cyan \\\n",
    "    -fuzz 0% \\\n",
    "    -fill gray30 \\\n",
    "    -opaque '#FFFF00FF' \\\n",
    "    -blur 4x1.5 \\\n",
    "    data/swordsman/standing_shadow.png"
   ]
  },
  {
   "cell_type": "code",
   "execution_count": 5,
   "id": "8de97a20",
   "metadata": {},
   "outputs": [],
   "source": [
    "montage -density 200 \\\n",
    "    -tile 5x0 \\\n",
    "    -geometry +5+5 \\\n",
    "    -border 10 \\\n",
    "    data/swordsman/0010.bmp data/swordsman/standing_shadow.png \\\n",
    "    data/out2.png"
   ]
  },
  {
   "cell_type": "markdown",
   "id": "64257c85",
   "metadata": {},
   "source": [
    "![](data/out2.png)"
   ]
  },
  {
   "cell_type": "markdown",
   "id": "31cc6f70",
   "metadata": {},
   "source": [
    "I'm also going to convert the standing soldier to a PNG with transparency:"
   ]
  },
  {
   "cell_type": "code",
   "execution_count": 6,
   "id": "c5cd114a",
   "metadata": {},
   "outputs": [],
   "source": [
    "convert data/swordsman/0001.bmp \\\n",
    "    -transparent cyan \\\n",
    "    data/swordsman/standing.png"
   ]
  },
  {
   "cell_type": "code",
   "execution_count": 7,
   "id": "99ffd288",
   "metadata": {},
   "outputs": [],
   "source": [
    "montage -density 200 \\\n",
    "    -tile 5x0 \\\n",
    "    -geometry +5+5 \\\n",
    "    -border 10 \\\n",
    "    data/swordsman/0001.bmp data/swordsman/standing.png \\\n",
    "    data/out3.png"
   ]
  },
  {
   "cell_type": "markdown",
   "id": "a98f342a",
   "metadata": {},
   "source": [
    "![](data/out3.png)"
   ]
  },
  {
   "cell_type": "markdown",
   "id": "19db079b",
   "metadata": {},
   "source": [
    "Now to combine the shadow and the image into one:"
   ]
  },
  {
   "cell_type": "code",
   "execution_count": 8,
   "id": "6a180e47",
   "metadata": {},
   "outputs": [],
   "source": [
    "im1=\"data/swordsman/standing_shadow.png\"\n",
    "im2=\"data/swordsman/standing.png\"\n",
    "\n",
    "convert -size `identify -format '%[w]x%[h]' ${im1}` xc:None \\\n",
    "    ${im1} -composite ${im2} -composite \\\n",
    "    data/swordsman/standing_combined.png"
   ]
  },
  {
   "cell_type": "code",
   "execution_count": 9,
   "id": "4fddbe3b",
   "metadata": {},
   "outputs": [],
   "source": [
    "montage -density 200 \\\n",
    "    -tile 5x0 \\\n",
    "    -geometry +5+5 \\\n",
    "    -border 10 \\\n",
    "    data/swordsman/standing_shadow.png data/swordsman/standing.png data/swordsman/standing_combined.png \\\n",
    "    data/out4.png"
   ]
  },
  {
   "cell_type": "markdown",
   "id": "a9c75fba",
   "metadata": {},
   "source": [
    "![](data/out4.png)"
   ]
  },
  {
   "cell_type": "markdown",
   "id": "c12fe627",
   "metadata": {},
   "source": [
    "The shadow is believeable, but the image is a bit pixellated.  I'm going blur the image again and add it as it's own background to smooth-over the outline as a kind of anti-aliasing cheat:"
   ]
  },
  {
   "cell_type": "code",
   "execution_count": 10,
   "id": "e2d8b524",
   "metadata": {},
   "outputs": [],
   "source": [
    "convert data/swordsman/standing_combined.png \\\n",
    "    -blur 2x2 \\\n",
    "    data/swordsman/standing_blurred.png"
   ]
  },
  {
   "cell_type": "code",
   "execution_count": 11,
   "id": "45ea51d3",
   "metadata": {},
   "outputs": [],
   "source": [
    "im1=\"data/swordsman/standing_blurred.png\"\n",
    "im2=\"data/swordsman/standing_combined.png\"\n",
    "\n",
    "convert -size `identify -format '%[w]x%[h]' ${im1}` xc:None \\\n",
    "    ${im1} -composite ${im2} -composite \\\n",
    "    data/swordsman/standing_final.png"
   ]
  },
  {
   "cell_type": "code",
   "execution_count": 12,
   "id": "9afa5f64",
   "metadata": {},
   "outputs": [],
   "source": [
    "montage -density 300 \\\n",
    "    -tile 5x0 \\\n",
    "    -geometry +5+5 \\\n",
    "    -border 10 \\\n",
    "    data/swordsman/standing_shadow.png data/swordsman/standing.png data/swordsman/standing_combined.png \\\n",
    "    data/swordsman/standing_blurred.png data/swordsman/standing_final.png \\\n",
    "    data/out6.png"
   ]
  },
  {
   "cell_type": "markdown",
   "id": "855c3b64",
   "metadata": {},
   "source": [
    "![](data/out6.png)"
   ]
  },
  {
   "cell_type": "markdown",
   "id": "c1163bcd",
   "metadata": {},
   "source": [
    "![](data/swordsman/final_swordsman.png)"
   ]
  },
  {
   "cell_type": "markdown",
   "id": "d4e5fa1c",
   "metadata": {},
   "source": [
    "![](data/swordsman/attack_front.gif)"
   ]
  },
  {
   "cell_type": "code",
   "execution_count": null,
   "id": "4229c3c4",
   "metadata": {},
   "outputs": [],
   "source": []
  }
 ],
 "metadata": {
  "kernelspec": {
   "display_name": "Bash",
   "language": "bash",
   "name": "bash"
  },
  "language_info": {
   "codemirror_mode": "shell",
   "file_extension": ".sh",
   "mimetype": "text/x-sh",
   "name": "bash"
  }
 },
 "nbformat": 4,
 "nbformat_minor": 5
}
